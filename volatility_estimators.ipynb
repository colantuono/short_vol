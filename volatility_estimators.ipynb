{
 "cells": [
  {
   "cell_type": "markdown",
   "metadata": {},
   "source": [
    "<h1 style=\"text-align: center\"> Estimadores de Volatilidade </h1>"
   ]
  },
  {
   "cell_type": "markdown",
   "metadata": {},
   "source": [
    "[Volatility Estimators - Hudson and Thames](https://www.mlfinlab.com/en/latest/feature_engineering/volatility_estimators.html)"
   ]
  },
  {
   "cell_type": "code",
   "execution_count": 1,
   "metadata": {},
   "outputs": [],
   "source": [
    "import numpy as np\n",
    "import pandas as pd\n",
    "import yfinance as yf\n",
    "import math\n",
    "\n",
    "import matplotlib.pyplot as plt\n",
    "import seaborn as sns\n",
    "import datetime as dt\n",
    "\n",
    "# Set seaborn style for better aesthetics\n",
    "# sns.set_theme(style='whitegrid')\n",
    "\n",
    "from datetime import datetime\n",
    "\n",
    "from utils.bs_funcs import *\n",
    "\n",
    "%load_ext autoreload\n",
    "%autoreload 2"
   ]
  },
  {
   "cell_type": "code",
   "execution_count": 2,
   "metadata": {},
   "outputs": [
    {
     "name": "stderr",
     "output_type": "stream",
     "text": [
      "[*********************100%%**********************]  1 of 1 completed\n"
     ]
    }
   ],
   "source": [
    "## download stock data\n",
    "ticker = 'BOVA11'\n",
    "yf_ticker = [f'{ticker}.SA']\n",
    "df =  get_stock_data(yf_ticker, period='5Y')\n",
    "\n",
    "# ticker = '^bvsp'\n",
    "# df =  get_stock_data(ticker, period='15Y')\n",
    "\n",
    "window_size = 20"
   ]
  },
  {
   "cell_type": "markdown",
   "metadata": {},
   "source": [
    "## Close to Close Volatility"
   ]
  },
  {
   "cell_type": "code",
   "execution_count": 3,
   "metadata": {},
   "outputs": [
    {
     "name": "stdout",
     "output_type": "stream",
     "text": [
      "Adj Close-to-Adj Close Volatility: 13.68%\n"
     ]
    }
   ],
   "source": [
    "def cc_volatility(precos_fechamento: pd.DataFrame, periodos: int=20):\n",
    "    cc_vol = precos_fechamento / precos_fechamento.shift(1)-1\n",
    "    return cc_vol.rolling(periodos).std() * np.sqrt(252)\n",
    "\n",
    "rolling_cc_volatility = cc_volatility(df['Adj Close'], window_size)\n",
    "print(f'Adj Close-to-Adj Close Volatility: {rolling_cc_volatility.iloc[-1]:.2%}')"
   ]
  },
  {
   "cell_type": "markdown",
   "metadata": {},
   "source": [
    "## Parkinson Volatility"
   ]
  },
  {
   "cell_type": "code",
   "execution_count": 4,
   "metadata": {},
   "outputs": [
    {
     "name": "stdout",
     "output_type": "stream",
     "text": [
      "Parkinson Vol: 9.55%\n"
     ]
    }
   ],
   "source": [
    "def parkinson_volatility(df, periodos: int=20):\n",
    "    hi_lo = (np.log(df['High'] / df['Low'])) ** 2\n",
    "    pk_vol = np.sqrt(hi_lo.rolling(periodos).mean() / 4 * np.log(2)) * np.sqrt(252) \n",
    "    return pk_vol \n",
    "\n",
    "rolling_parkinson_volatility = parkinson_volatility(df, window_size)\n",
    "print(f'Parkinson Vol: {rolling_parkinson_volatility.iloc[-1]:.2%}')"
   ]
  },
  {
   "cell_type": "markdown",
   "metadata": {},
   "source": [
    "## Garman-Klass Volatility"
   ]
  },
  {
   "cell_type": "code",
   "execution_count": 5,
   "metadata": {},
   "outputs": [
    {
     "name": "stdout",
     "output_type": "stream",
     "text": [
      "Garman Klass Vol: 14.52%\n"
     ]
    }
   ],
   "source": [
    "def garman_klass_volatility(df, periodos: int=20):\n",
    "    hi_lo = (np.log(df['High'] / df['Low'])) ** 2\n",
    "    cl_op = (np.log(df['Adj Close'] / df['Open'])) ** 2\n",
    "    gk = 0.5 * hi_lo - (2 * np.log(2) - 1) * cl_op\n",
    "    gk_vol = (np.sqrt(gk.rolling(periodos).mean())) * np.sqrt(252)\n",
    "    return gk_vol\n",
    "\n",
    "rolling_garman_klass_volatility = garman_klass_volatility(df, window_size)\n",
    "print(f'Garman Klass Vol: {rolling_garman_klass_volatility.iloc[-1]:.2%}')"
   ]
  },
  {
   "cell_type": "markdown",
   "metadata": {},
   "source": [
    "## Rogers-Satchell Volatility"
   ]
  },
  {
   "cell_type": "code",
   "execution_count": 6,
   "metadata": {},
   "outputs": [
    {
     "name": "stdout",
     "output_type": "stream",
     "text": [
      "Rogers Satchel Vol: 15.97%\n"
     ]
    }
   ],
   "source": [
    "def rogers_satchell_volatility(df, periodos=20):\n",
    "    hi_cl = np.log(df['High'] / df['Adj Close'])\n",
    "    hi_op = np.log(df['High'] / df['Open'])\n",
    "    lo_cl = np.log(df['Low'] / df['Adj Close'])\n",
    "    lo_op = np.log(df['Low'] / df['Open'])\n",
    "    rs = np.sqrt((hi_cl * hi_op + lo_cl * lo_op).rolling(periodos).mean())\n",
    "    rs_vol = rs * np.sqrt(252)\n",
    "    return rs_vol \n",
    "\n",
    "rolling_rogers_satchell_volatility = rogers_satchell_volatility(df, window_size)  \n",
    "print(f'Rogers Satchel Vol: {rolling_rogers_satchell_volatility.iloc[-1]:.2%}')"
   ]
  },
  {
   "cell_type": "markdown",
   "metadata": {},
   "source": [
    "## Yang-Zhang Volatility"
   ]
  },
  {
   "cell_type": "code",
   "execution_count": 7,
   "metadata": {},
   "outputs": [
    {
     "name": "stdout",
     "output_type": "stream",
     "text": [
      "Yang-Zhang Vol: 18.11%\n"
     ]
    }
   ],
   "source": [
    "def yang_zhang_volatility(df, periodos=20): \n",
    "    hi_cl = np.log(df['High'] / df['Adj Close'])\n",
    "    hi_op = np.log(df['High'] / df['Open'])\n",
    "    lo_cl = np.log(df['Low'] / df['Adj Close'])\n",
    "    lo_op = np.log(df['Low'] / df['Open'])\n",
    "    rs = np.sqrt((hi_cl * hi_op + lo_cl * lo_op).rolling(periodos).mean())\n",
    "    \n",
    "    \n",
    "    op_cl_1 = np.log(df['Open'] / df['Adj Close'].shift(1) )\n",
    "    # hi_op = np.log(df['High'] / df['Open'] )\n",
    "    # lo_op = np.log(df['Low'] / df['Open'] )\n",
    "    cl_op = np.log(df['Adj Close'] / df['Open'] )\n",
    "\n",
    "    open_close_vol = (cl_op.rolling(periodos).std())\n",
    "    overnight_vol = (op_cl_1.rolling(periodos).std())\n",
    "\n",
    "    k = 0.34 / (1.34 + (periodos+1) / (periodos-1) )\n",
    " \n",
    "    \n",
    "    yz = np.sqrt(overnight_vol**2 + k*open_close_vol**2 + (1 - k)*rs**2)\n",
    "    yz_vol = yz * np.sqrt(252) \n",
    "    return yz_vol\n",
    "\n",
    "rolling_yang_zhang_volatility = yang_zhang_volatility(df, window_size)\n",
    "print(f'Yang-Zhang Vol: {rolling_yang_zhang_volatility.iloc[-1]:.2%}')"
   ]
  },
  {
   "cell_type": "markdown",
   "metadata": {},
   "source": [
    "## PLOTS"
   ]
  },
  {
   "cell_type": "code",
   "execution_count": 8,
   "metadata": {},
   "outputs": [
    {
     "data": {
      "application/vnd.plotly.v1+json": {
       "config": {
        "plotlyServerURL": "https://plot.ly"
       },
       "data": [
        {
         "close": [
          125.81999969482422,
          124.0199966430664,
          124,
          124.26000213623047,
          122.94999694824219,
          122.86000061035156,
          122.41000366210938,
          123.9800033569336,
          123.45999908447266,
          122.70999908447266,
          124.04000091552734,
          123.73999786376953,
          122.37999725341797,
          121.7699966430664,
          122.73999786376953,
          124.04000091552734,
          125.30000305175781,
          127.12999725341797,
          127.6500015258789,
          128.77999877929688,
          129.67999267578125
         ],
         "high": [
          125.98999786376953,
          125.62000274658203,
          124.86000061035156,
          124.58999633789062,
          123.8499984741211,
          123.27999877929688,
          122.7300033569336,
          124.1500015258789,
          124.08000183105469,
          123.08999633789062,
          124.26000213623047,
          125.26000213623047,
          124.45999908447266,
          121.80000305175781,
          123.48999786376953,
          124.08999633789062,
          125.30000305175781,
          127.12999725341797,
          128.13999938964844,
          128.83999633789062,
          130.10000610351562
         ],
         "low": [
          125.0999984741211,
          123.97000122070312,
          123.86000061035156,
          123.87000274658203,
          122.94999694824219,
          122.69000244140625,
          122.08999633789062,
          122.51000213623047,
          123.04000091552734,
          122.44000244140625,
          123.30000305175781,
          123.55999755859375,
          122.19999694824219,
          119.52999877929688,
          117.94000244140625,
          123.18000030517578,
          124.11000061035156,
          125.45999908447266,
          127.5199966430664,
          128.13999938964844,
          128.82000732421875
         ],
         "name": "BOVA11",
         "open": [
          125.37999725341797,
          125.5,
          124.12000274658203,
          124.11000061035156,
          123.73999786376953,
          122.87999725341797,
          122.62000274658203,
          122.80999755859375,
          123.91999816894531,
          122.86000061035156,
          123.44000244140625,
          124.5999984741211,
          124,
          119.87999725341797,
          122.18000030517578,
          123.73999786376953,
          124.22000122070312,
          125.62999725341797,
          127.66999816894531,
          128.19000244140625,
          129
         ],
         "type": "candlestick",
         "x": [
          "2024-07-17T00:00:00",
          "2024-07-18T00:00:00",
          "2024-07-19T00:00:00",
          "2024-07-22T00:00:00",
          "2024-07-23T00:00:00",
          "2024-07-24T00:00:00",
          "2024-07-25T00:00:00",
          "2024-07-26T00:00:00",
          "2024-07-29T00:00:00",
          "2024-07-30T00:00:00",
          "2024-07-31T00:00:00",
          "2024-08-01T00:00:00",
          "2024-08-02T00:00:00",
          "2024-08-05T00:00:00",
          "2024-08-06T00:00:00",
          "2024-08-07T00:00:00",
          "2024-08-08T00:00:00",
          "2024-08-09T00:00:00",
          "2024-08-12T00:00:00",
          "2024-08-13T00:00:00",
          "2024-08-14T00:00:00"
         ],
         "xaxis": "x",
         "yaxis": "y"
        },
        {
         "mode": "lines",
         "name": "Desvio Padrão",
         "type": "scatter",
         "x": [
          "2024-07-17T00:00:00",
          "2024-07-18T00:00:00",
          "2024-07-19T00:00:00",
          "2024-07-22T00:00:00",
          "2024-07-23T00:00:00",
          "2024-07-24T00:00:00",
          "2024-07-25T00:00:00",
          "2024-07-26T00:00:00",
          "2024-07-29T00:00:00",
          "2024-07-30T00:00:00",
          "2024-07-31T00:00:00",
          "2024-08-01T00:00:00",
          "2024-08-02T00:00:00",
          "2024-08-05T00:00:00",
          "2024-08-06T00:00:00",
          "2024-08-07T00:00:00",
          "2024-08-08T00:00:00",
          "2024-08-09T00:00:00",
          "2024-08-12T00:00:00",
          "2024-08-13T00:00:00",
          "2024-08-14T00:00:00"
         ],
         "xaxis": "x2",
         "y": [
          6.764689695405641,
          9.32458992190075,
          9.203841724429743,
          8.878539124890153,
          9.892772173841454,
          9.92894005861108,
          8.934728530939138,
          9.764854307054458,
          9.823390703774253,
          10.125740667785397,
          10.556486274394251,
          10.54681010729169,
          11.303562828557007,
          11.403634154557016,
          11.645080997413551,
          12.269836256729596,
          12.416365621270636,
          13.328406439711818,
          13.326320121561178,
          13.550018192056937,
          13.676751525517613
         ],
         "yaxis": "y2"
        },
        {
         "mode": "lines",
         "name": "Yang-Zhang",
         "type": "scatter",
         "x": [
          "2024-07-17T00:00:00",
          "2024-07-18T00:00:00",
          "2024-07-19T00:00:00",
          "2024-07-22T00:00:00",
          "2024-07-23T00:00:00",
          "2024-07-24T00:00:00",
          "2024-07-25T00:00:00",
          "2024-07-26T00:00:00",
          "2024-07-29T00:00:00",
          "2024-07-30T00:00:00",
          "2024-07-31T00:00:00",
          "2024-08-01T00:00:00",
          "2024-08-02T00:00:00",
          "2024-08-05T00:00:00",
          "2024-08-06T00:00:00",
          "2024-08-07T00:00:00",
          "2024-08-08T00:00:00",
          "2024-08-09T00:00:00",
          "2024-08-12T00:00:00",
          "2024-08-13T00:00:00",
          "2024-08-14T00:00:00"
         ],
         "xaxis": "x2",
         "y": [
          10.839030913658139,
          10.474086415156467,
          10.332821471274483,
          10.276057856696239,
          10.364107941428294,
          9.967533925725462,
          9.757729908525791,
          9.824592513839232,
          9.580497874871806,
          9.589922221393223,
          9.227726049081864,
          9.419997334286856,
          9.799971903984513,
          12.645652568121607,
          17.78529810177093,
          18.04423302162082,
          17.919742721123495,
          17.992472002461508,
          18.027718985488857,
          18.04976667023834,
          18.114176695369416
         ],
         "yaxis": "y2"
        }
       ],
       "layout": {
        "height": 1200,
        "hovermode": "closest",
        "template": {
         "data": {
          "bar": [
           {
            "error_x": {
             "color": "#2a3f5f"
            },
            "error_y": {
             "color": "#2a3f5f"
            },
            "marker": {
             "line": {
              "color": "#E5ECF6",
              "width": 0.5
             },
             "pattern": {
              "fillmode": "overlay",
              "size": 10,
              "solidity": 0.2
             }
            },
            "type": "bar"
           }
          ],
          "barpolar": [
           {
            "marker": {
             "line": {
              "color": "#E5ECF6",
              "width": 0.5
             },
             "pattern": {
              "fillmode": "overlay",
              "size": 10,
              "solidity": 0.2
             }
            },
            "type": "barpolar"
           }
          ],
          "carpet": [
           {
            "aaxis": {
             "endlinecolor": "#2a3f5f",
             "gridcolor": "white",
             "linecolor": "white",
             "minorgridcolor": "white",
             "startlinecolor": "#2a3f5f"
            },
            "baxis": {
             "endlinecolor": "#2a3f5f",
             "gridcolor": "white",
             "linecolor": "white",
             "minorgridcolor": "white",
             "startlinecolor": "#2a3f5f"
            },
            "type": "carpet"
           }
          ],
          "choropleth": [
           {
            "colorbar": {
             "outlinewidth": 0,
             "ticks": ""
            },
            "type": "choropleth"
           }
          ],
          "contour": [
           {
            "colorbar": {
             "outlinewidth": 0,
             "ticks": ""
            },
            "colorscale": [
             [
              0,
              "#0d0887"
             ],
             [
              0.1111111111111111,
              "#46039f"
             ],
             [
              0.2222222222222222,
              "#7201a8"
             ],
             [
              0.3333333333333333,
              "#9c179e"
             ],
             [
              0.4444444444444444,
              "#bd3786"
             ],
             [
              0.5555555555555556,
              "#d8576b"
             ],
             [
              0.6666666666666666,
              "#ed7953"
             ],
             [
              0.7777777777777778,
              "#fb9f3a"
             ],
             [
              0.8888888888888888,
              "#fdca26"
             ],
             [
              1,
              "#f0f921"
             ]
            ],
            "type": "contour"
           }
          ],
          "contourcarpet": [
           {
            "colorbar": {
             "outlinewidth": 0,
             "ticks": ""
            },
            "type": "contourcarpet"
           }
          ],
          "heatmap": [
           {
            "colorbar": {
             "outlinewidth": 0,
             "ticks": ""
            },
            "colorscale": [
             [
              0,
              "#0d0887"
             ],
             [
              0.1111111111111111,
              "#46039f"
             ],
             [
              0.2222222222222222,
              "#7201a8"
             ],
             [
              0.3333333333333333,
              "#9c179e"
             ],
             [
              0.4444444444444444,
              "#bd3786"
             ],
             [
              0.5555555555555556,
              "#d8576b"
             ],
             [
              0.6666666666666666,
              "#ed7953"
             ],
             [
              0.7777777777777778,
              "#fb9f3a"
             ],
             [
              0.8888888888888888,
              "#fdca26"
             ],
             [
              1,
              "#f0f921"
             ]
            ],
            "type": "heatmap"
           }
          ],
          "heatmapgl": [
           {
            "colorbar": {
             "outlinewidth": 0,
             "ticks": ""
            },
            "colorscale": [
             [
              0,
              "#0d0887"
             ],
             [
              0.1111111111111111,
              "#46039f"
             ],
             [
              0.2222222222222222,
              "#7201a8"
             ],
             [
              0.3333333333333333,
              "#9c179e"
             ],
             [
              0.4444444444444444,
              "#bd3786"
             ],
             [
              0.5555555555555556,
              "#d8576b"
             ],
             [
              0.6666666666666666,
              "#ed7953"
             ],
             [
              0.7777777777777778,
              "#fb9f3a"
             ],
             [
              0.8888888888888888,
              "#fdca26"
             ],
             [
              1,
              "#f0f921"
             ]
            ],
            "type": "heatmapgl"
           }
          ],
          "histogram": [
           {
            "marker": {
             "pattern": {
              "fillmode": "overlay",
              "size": 10,
              "solidity": 0.2
             }
            },
            "type": "histogram"
           }
          ],
          "histogram2d": [
           {
            "colorbar": {
             "outlinewidth": 0,
             "ticks": ""
            },
            "colorscale": [
             [
              0,
              "#0d0887"
             ],
             [
              0.1111111111111111,
              "#46039f"
             ],
             [
              0.2222222222222222,
              "#7201a8"
             ],
             [
              0.3333333333333333,
              "#9c179e"
             ],
             [
              0.4444444444444444,
              "#bd3786"
             ],
             [
              0.5555555555555556,
              "#d8576b"
             ],
             [
              0.6666666666666666,
              "#ed7953"
             ],
             [
              0.7777777777777778,
              "#fb9f3a"
             ],
             [
              0.8888888888888888,
              "#fdca26"
             ],
             [
              1,
              "#f0f921"
             ]
            ],
            "type": "histogram2d"
           }
          ],
          "histogram2dcontour": [
           {
            "colorbar": {
             "outlinewidth": 0,
             "ticks": ""
            },
            "colorscale": [
             [
              0,
              "#0d0887"
             ],
             [
              0.1111111111111111,
              "#46039f"
             ],
             [
              0.2222222222222222,
              "#7201a8"
             ],
             [
              0.3333333333333333,
              "#9c179e"
             ],
             [
              0.4444444444444444,
              "#bd3786"
             ],
             [
              0.5555555555555556,
              "#d8576b"
             ],
             [
              0.6666666666666666,
              "#ed7953"
             ],
             [
              0.7777777777777778,
              "#fb9f3a"
             ],
             [
              0.8888888888888888,
              "#fdca26"
             ],
             [
              1,
              "#f0f921"
             ]
            ],
            "type": "histogram2dcontour"
           }
          ],
          "mesh3d": [
           {
            "colorbar": {
             "outlinewidth": 0,
             "ticks": ""
            },
            "type": "mesh3d"
           }
          ],
          "parcoords": [
           {
            "line": {
             "colorbar": {
              "outlinewidth": 0,
              "ticks": ""
             }
            },
            "type": "parcoords"
           }
          ],
          "pie": [
           {
            "automargin": true,
            "type": "pie"
           }
          ],
          "scatter": [
           {
            "fillpattern": {
             "fillmode": "overlay",
             "size": 10,
             "solidity": 0.2
            },
            "type": "scatter"
           }
          ],
          "scatter3d": [
           {
            "line": {
             "colorbar": {
              "outlinewidth": 0,
              "ticks": ""
             }
            },
            "marker": {
             "colorbar": {
              "outlinewidth": 0,
              "ticks": ""
             }
            },
            "type": "scatter3d"
           }
          ],
          "scattercarpet": [
           {
            "marker": {
             "colorbar": {
              "outlinewidth": 0,
              "ticks": ""
             }
            },
            "type": "scattercarpet"
           }
          ],
          "scattergeo": [
           {
            "marker": {
             "colorbar": {
              "outlinewidth": 0,
              "ticks": ""
             }
            },
            "type": "scattergeo"
           }
          ],
          "scattergl": [
           {
            "marker": {
             "colorbar": {
              "outlinewidth": 0,
              "ticks": ""
             }
            },
            "type": "scattergl"
           }
          ],
          "scattermapbox": [
           {
            "marker": {
             "colorbar": {
              "outlinewidth": 0,
              "ticks": ""
             }
            },
            "type": "scattermapbox"
           }
          ],
          "scatterpolar": [
           {
            "marker": {
             "colorbar": {
              "outlinewidth": 0,
              "ticks": ""
             }
            },
            "type": "scatterpolar"
           }
          ],
          "scatterpolargl": [
           {
            "marker": {
             "colorbar": {
              "outlinewidth": 0,
              "ticks": ""
             }
            },
            "type": "scatterpolargl"
           }
          ],
          "scatterternary": [
           {
            "marker": {
             "colorbar": {
              "outlinewidth": 0,
              "ticks": ""
             }
            },
            "type": "scatterternary"
           }
          ],
          "surface": [
           {
            "colorbar": {
             "outlinewidth": 0,
             "ticks": ""
            },
            "colorscale": [
             [
              0,
              "#0d0887"
             ],
             [
              0.1111111111111111,
              "#46039f"
             ],
             [
              0.2222222222222222,
              "#7201a8"
             ],
             [
              0.3333333333333333,
              "#9c179e"
             ],
             [
              0.4444444444444444,
              "#bd3786"
             ],
             [
              0.5555555555555556,
              "#d8576b"
             ],
             [
              0.6666666666666666,
              "#ed7953"
             ],
             [
              0.7777777777777778,
              "#fb9f3a"
             ],
             [
              0.8888888888888888,
              "#fdca26"
             ],
             [
              1,
              "#f0f921"
             ]
            ],
            "type": "surface"
           }
          ],
          "table": [
           {
            "cells": {
             "fill": {
              "color": "#EBF0F8"
             },
             "line": {
              "color": "white"
             }
            },
            "header": {
             "fill": {
              "color": "#C8D4E3"
             },
             "line": {
              "color": "white"
             }
            },
            "type": "table"
           }
          ]
         },
         "layout": {
          "annotationdefaults": {
           "arrowcolor": "#2a3f5f",
           "arrowhead": 0,
           "arrowwidth": 1
          },
          "autotypenumbers": "strict",
          "coloraxis": {
           "colorbar": {
            "outlinewidth": 0,
            "ticks": ""
           }
          },
          "colorscale": {
           "diverging": [
            [
             0,
             "#8e0152"
            ],
            [
             0.1,
             "#c51b7d"
            ],
            [
             0.2,
             "#de77ae"
            ],
            [
             0.3,
             "#f1b6da"
            ],
            [
             0.4,
             "#fde0ef"
            ],
            [
             0.5,
             "#f7f7f7"
            ],
            [
             0.6,
             "#e6f5d0"
            ],
            [
             0.7,
             "#b8e186"
            ],
            [
             0.8,
             "#7fbc41"
            ],
            [
             0.9,
             "#4d9221"
            ],
            [
             1,
             "#276419"
            ]
           ],
           "sequential": [
            [
             0,
             "#0d0887"
            ],
            [
             0.1111111111111111,
             "#46039f"
            ],
            [
             0.2222222222222222,
             "#7201a8"
            ],
            [
             0.3333333333333333,
             "#9c179e"
            ],
            [
             0.4444444444444444,
             "#bd3786"
            ],
            [
             0.5555555555555556,
             "#d8576b"
            ],
            [
             0.6666666666666666,
             "#ed7953"
            ],
            [
             0.7777777777777778,
             "#fb9f3a"
            ],
            [
             0.8888888888888888,
             "#fdca26"
            ],
            [
             1,
             "#f0f921"
            ]
           ],
           "sequentialminus": [
            [
             0,
             "#0d0887"
            ],
            [
             0.1111111111111111,
             "#46039f"
            ],
            [
             0.2222222222222222,
             "#7201a8"
            ],
            [
             0.3333333333333333,
             "#9c179e"
            ],
            [
             0.4444444444444444,
             "#bd3786"
            ],
            [
             0.5555555555555556,
             "#d8576b"
            ],
            [
             0.6666666666666666,
             "#ed7953"
            ],
            [
             0.7777777777777778,
             "#fb9f3a"
            ],
            [
             0.8888888888888888,
             "#fdca26"
            ],
            [
             1,
             "#f0f921"
            ]
           ]
          },
          "colorway": [
           "#636efa",
           "#EF553B",
           "#00cc96",
           "#ab63fa",
           "#FFA15A",
           "#19d3f3",
           "#FF6692",
           "#B6E880",
           "#FF97FF",
           "#FECB52"
          ],
          "font": {
           "color": "#2a3f5f"
          },
          "geo": {
           "bgcolor": "white",
           "lakecolor": "white",
           "landcolor": "#E5ECF6",
           "showlakes": true,
           "showland": true,
           "subunitcolor": "white"
          },
          "hoverlabel": {
           "align": "left"
          },
          "hovermode": "closest",
          "mapbox": {
           "style": "light"
          },
          "paper_bgcolor": "white",
          "plot_bgcolor": "#E5ECF6",
          "polar": {
           "angularaxis": {
            "gridcolor": "white",
            "linecolor": "white",
            "ticks": ""
           },
           "bgcolor": "#E5ECF6",
           "radialaxis": {
            "gridcolor": "white",
            "linecolor": "white",
            "ticks": ""
           }
          },
          "scene": {
           "xaxis": {
            "backgroundcolor": "#E5ECF6",
            "gridcolor": "white",
            "gridwidth": 2,
            "linecolor": "white",
            "showbackground": true,
            "ticks": "",
            "zerolinecolor": "white"
           },
           "yaxis": {
            "backgroundcolor": "#E5ECF6",
            "gridcolor": "white",
            "gridwidth": 2,
            "linecolor": "white",
            "showbackground": true,
            "ticks": "",
            "zerolinecolor": "white"
           },
           "zaxis": {
            "backgroundcolor": "#E5ECF6",
            "gridcolor": "white",
            "gridwidth": 2,
            "linecolor": "white",
            "showbackground": true,
            "ticks": "",
            "zerolinecolor": "white"
           }
          },
          "shapedefaults": {
           "line": {
            "color": "#2a3f5f"
           }
          },
          "ternary": {
           "aaxis": {
            "gridcolor": "white",
            "linecolor": "white",
            "ticks": ""
           },
           "baxis": {
            "gridcolor": "white",
            "linecolor": "white",
            "ticks": ""
           },
           "bgcolor": "#E5ECF6",
           "caxis": {
            "gridcolor": "white",
            "linecolor": "white",
            "ticks": ""
           }
          },
          "title": {
           "x": 0.05
          },
          "xaxis": {
           "automargin": true,
           "gridcolor": "white",
           "linecolor": "white",
           "ticks": "",
           "title": {
            "standoff": 15
           },
           "zerolinecolor": "white",
           "zerolinewidth": 2
          },
          "yaxis": {
           "automargin": true,
           "gridcolor": "white",
           "linecolor": "white",
           "ticks": "",
           "title": {
            "standoff": 15
           },
           "zerolinecolor": "white",
           "zerolinewidth": 2
          }
         }
        },
        "width": 1200,
        "xaxis": {
         "anchor": "y",
         "domain": [
          0,
          1
         ],
         "rangeslider": {
          "visible": false
         }
        },
        "xaxis2": {
         "anchor": "y2",
         "domain": [
          0,
          1
         ],
         "rangeslider": {
          "visible": false
         }
        },
        "yaxis": {
         "anchor": "x",
         "domain": [
          0.575,
          1
         ]
        },
        "yaxis2": {
         "anchor": "x2",
         "domain": [
          0,
          0.425
         ]
        }
       }
      }
     },
     "metadata": {},
     "output_type": "display_data"
    }
   ],
   "source": [
    "import plotly.graph_objects as go\n",
    "from plotly.subplots import make_subplots\n",
    "\n",
    "x = df.index[-21:]\n",
    "\n",
    "# Create a 2x1 subplot layout\n",
    "fig = make_subplots(rows=2, cols=1)\n",
    "\n",
    "# Add a candlestick chart to the first subplot\n",
    "fig.add_trace(go.Candlestick(x=x,\n",
    "                             open=df['Open'][-21:],\n",
    "                             high=df['High'][-21:],\n",
    "                             low=df['Low'][-21:],\n",
    "                             close=df['Adj Close'][-21:], name='BOVA11', ),\n",
    "              row=1, col=1)\n",
    "\n",
    "# Add a line chart to the second subplot\n",
    "# fig.add_trace(go.Scatter(x=x, y=rolling_parkinson_volatility[-21:], mode='lines', name='Parkinson'),row=2, col=1)\n",
    "# fig.add_trace(go.Scatter(x=x, y=rolling_rogers_satchell_volatility[-21:], mode='lines', name='Rogers Satchell'),row=2, col=1)\n",
    "fig.add_trace(go.Scatter(x=x, y=rolling_cc_volatility[-21:]*100, mode='lines', name='Desvio Padrão'), row=2, col=1)\n",
    "fig.add_trace(go.Scatter(x=x, y=rolling_yang_zhang_volatility[-21:]*100, mode='lines', name='Yang-Zhang'), row=2, col=1)\n",
    "\n",
    "\n",
    "\n",
    "# Update layout\n",
    "fig.update_layout(height=1200, width=1200, hovermode=\"closest\")\n",
    "\n",
    "# Show the plot\n",
    "fig.update_xaxes(rangeslider_visible=False)\n",
    "\n",
    "fig.show()"
   ]
  },
  {
   "cell_type": "code",
   "execution_count": 9,
   "metadata": {},
   "outputs": [
    {
     "data": {
      "image/png": "[encoded data removed]",
      "text/plain": [
       "<Figure size 1500x600 with 1 Axes>"
      ]
     },
     "metadata": {},
     "output_type": "display_data"
    },
    {
     "data": {
      "text/html": [
       "<div>\n",
       "<style scoped>\n",
       "    .dataframe tbody tr th:only-of-type {\n",
       "        vertical-align: middle;\n",
       "    }\n",
       "\n",
       "    .dataframe tbody tr th {\n",
       "        vertical-align: top;\n",
       "    }\n",
       "\n",
       "    .dataframe thead th {\n",
       "        text-align: right;\n",
       "    }\n",
       "</style>\n",
       "<table border=\"1\" class=\"dataframe\">\n",
       "  <thead>\n",
       "    <tr style=\"text-align: right;\">\n",
       "      <th></th>\n",
       "      <th>cc</th>\n",
       "      <th>parkinson</th>\n",
       "      <th>garman_klass</th>\n",
       "      <th>rogers_satchell</th>\n",
       "      <th>yang_zhang</th>\n",
       "    </tr>\n",
       "    <tr>\n",
       "      <th>Date</th>\n",
       "      <th></th>\n",
       "      <th></th>\n",
       "      <th></th>\n",
       "      <th></th>\n",
       "      <th></th>\n",
       "    </tr>\n",
       "  </thead>\n",
       "  <tbody>\n",
       "    <tr>\n",
       "      <th>2024-08-14</th>\n",
       "      <td>13.676752</td>\n",
       "      <td>9.54712</td>\n",
       "      <td>14.518257</td>\n",
       "      <td>15.974009</td>\n",
       "      <td>18.114177</td>\n",
       "    </tr>\n",
       "  </tbody>\n",
       "</table>\n",
       "</div>"
      ],
      "text/plain": [
       "                   cc  parkinson  garman_klass  rogers_satchell  yang_zhang\n",
       "Date                                                                       \n",
       "2024-08-14  13.676752    9.54712     14.518257        15.974009   18.114177"
      ]
     },
     "execution_count": 9,
     "metadata": {},
     "output_type": "execute_result"
    }
   ],
   "source": [
    "df1 = pd.concat([\n",
    "    cc_volatility(df['Adj Close'], 20)*100,\n",
    "    parkinson_volatility(df, 20)*100,\n",
    "    garman_klass_volatility(df, 20)*100,\n",
    "    rogers_satchell_volatility(df, 20)*100,\n",
    "    yang_zhang_volatility(df, 20)*100,\n",
    "    ],axis=1)\n",
    "df1.columns = ['cc', 'parkinson', 'garman_klass', 'rogers_satchell', 'yang_zhang']\n",
    "\n",
    "\n",
    "\n",
    "plt.figure(figsize=(15, 6))\n",
    "\n",
    "# Plot rolling volatility\n",
    "plt.plot(rolling_cc_volatility[-21:], label='Rolling Adj Close to Adj Close Volatility', linewidth=1)\n",
    "plt.plot(rolling_parkinson_volatility[-21:], label='Rolling Parkinson Volatility', linewidth=1)\n",
    "plt.plot(rolling_garman_klass_volatility[-21:], label='Rolling Garman-Klass Volatility', linewidth=1)\n",
    "plt.plot(rolling_rogers_satchell_volatility[-21:], label='Rolling Rogers-Satchell Volatility', linewidth=1)\n",
    "plt.plot(rolling_yang_zhang_volatility[-21:], label='Rolling Yang-Zhang Volatility', linewidth=1)\n",
    "\n",
    "# Add titles and labels\n",
    "plt.title('Rolling Volatility Over Time')\n",
    "\n",
    "# Add x-axis labels\n",
    "# plt.xticks(ticks=range(len(df.index[-21:])), labels=df.index.date[-21:], rotation=45)\n",
    "\n",
    "# Add grid and legend\n",
    "plt.grid(True)\n",
    "plt.legend()\n",
    "\n",
    "# Show the plot\n",
    "plt.show()\n",
    "\n",
    "df1[-1:]\n"
   ]
  }
 ],
 "metadata": {
  "kernelspec": {
   "display_name": "Python 3",
   "language": "python",
   "name": "python3"
  },
  "language_info": {
   "codemirror_mode": {
    "name": "ipython",
    "version": 3
   },
   "file_extension": ".py",
   "mimetype": "text/x-python",
   "name": "python",
   "nbconvert_exporter": "python",
   "pygments_lexer": "ipython3",
   "version": "3.12.3"
  }
 },
 "nbformat": 4,
 "nbformat_minor": 2
}
