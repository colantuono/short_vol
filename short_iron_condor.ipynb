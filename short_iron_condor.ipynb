{
 "cells": [
  {
   "cell_type": "code",
   "execution_count": 1,
   "metadata": {},
   "outputs": [],
   "source": [
    "import pandas as pd\n",
    "import numpy as np\n",
    "import yfinance as yf\n",
    "from functions import *\n",
    "\n",
    "%load_ext autoreload\n",
    "%autoreload 2"
   ]
  },
  {
   "cell_type": "code",
   "execution_count": 2,
   "metadata": {},
   "outputs": [
    {
     "name": "stderr",
     "output_type": "stream",
     "text": [
      "[*********************100%%**********************]  1 of 1 completed\n"
     ]
    },
    {
     "data": {
      "text/plain": [
       "117.3499984741211"
      ]
     },
     "execution_count": 2,
     "metadata": {},
     "output_type": "execute_result"
    }
   ],
   "source": [
    "## Underlying data\n",
    "underlying_ticker = 'BOVA11'\n",
    "underlying = yf.download((underlying_ticker + '.SA'), period='12mo')[['Adj Close']]\n",
    "last_price = underlying.iloc[-1].iloc[0]\n",
    "last_price"
   ]
  },
  {
   "cell_type": "markdown",
   "metadata": {},
   "source": [
    "## Options Data Collection"
   ]
  },
  {
   "cell_type": "code",
   "execution_count": 3,
   "metadata": {},
   "outputs": [
    {
     "data": {
      "text/html": [
       "<div>\n",
       "<style scoped>\n",
       "    .dataframe tbody tr th:only-of-type {\n",
       "        vertical-align: middle;\n",
       "    }\n",
       "\n",
       "    .dataframe tbody tr th {\n",
       "        vertical-align: top;\n",
       "    }\n",
       "\n",
       "    .dataframe thead th {\n",
       "        text-align: right;\n",
       "    }\n",
       "</style>\n",
       "<table border=\"1\" class=\"dataframe\">\n",
       "  <thead>\n",
       "    <tr style=\"text-align: right;\">\n",
       "      <th></th>\n",
       "      <th>Option</th>\n",
       "      <th>Type</th>\n",
       "      <th>E/A</th>\n",
       "      <th>Moneyness</th>\n",
       "      <th>Strike</th>\n",
       "      <th>Distance</th>\n",
       "      <th>Premium</th>\n",
       "      <th>volume</th>\n",
       "      <th>abs_Distance</th>\n",
       "    </tr>\n",
       "  </thead>\n",
       "  <tbody>\n",
       "    <tr>\n",
       "      <th>19</th>\n",
       "      <td>BOVAG117</td>\n",
       "      <td>CALL</td>\n",
       "      <td>E</td>\n",
       "      <td>ATM</td>\n",
       "      <td>117.0</td>\n",
       "      <td>-0.11</td>\n",
       "      <td>3.28</td>\n",
       "      <td>592585.29</td>\n",
       "      <td>0.11</td>\n",
       "    </tr>\n",
       "    <tr>\n",
       "      <th>99</th>\n",
       "      <td>BOVAS117</td>\n",
       "      <td>PUT</td>\n",
       "      <td>E</td>\n",
       "      <td>ATM</td>\n",
       "      <td>117.0</td>\n",
       "      <td>-0.11</td>\n",
       "      <td>1.74</td>\n",
       "      <td>524795.81</td>\n",
       "      <td>0.11</td>\n",
       "    </tr>\n",
       "  </tbody>\n",
       "</table>\n",
       "</div>"
      ],
      "text/plain": [
       "      Option  Type E/A Moneyness  Strike  Distance  Premium     volume  \\\n",
       "19  BOVAG117  CALL   E       ATM   117.0     -0.11     3.28  592585.29   \n",
       "99  BOVAS117   PUT   E       ATM   117.0     -0.11     1.74  524795.81   \n",
       "\n",
       "    abs_Distance  \n",
       "19          0.11  \n",
       "99          0.11  "
      ]
     },
     "execution_count": 3,
     "metadata": {},
     "output_type": "execute_result"
    }
   ],
   "source": [
    "## Collect front month data to calculate expected move in the operation period  \n",
    "exp_date_front = '2024-07-19'\n",
    "            \n",
    "options_chain_front = get_options_chain(underlying_ticker, exp_date_front)\n",
    "options_chain_front['abs_Distance'] = options_chain_front['Distance'].abs() \n",
    "options_chain_front[options_chain_front['Moneyness'] == 'ATM'].sort_values('abs_Distance').head(2)\n",
    "\n",
    "# options_chain_front[options_chain_front['Moneyness'] == 'OTM'].sort_values('abs_Distance').head(14).sort_values('Strike')"
   ]
  },
  {
   "cell_type": "code",
   "execution_count": 4,
   "metadata": {},
   "outputs": [
    {
     "data": {
      "text/html": [
       "<div>\n",
       "<style scoped>\n",
       "    .dataframe tbody tr th:only-of-type {\n",
       "        vertical-align: middle;\n",
       "    }\n",
       "\n",
       "    .dataframe tbody tr th {\n",
       "        vertical-align: top;\n",
       "    }\n",
       "\n",
       "    .dataframe thead th {\n",
       "        text-align: right;\n",
       "    }\n",
       "</style>\n",
       "<table border=\"1\" class=\"dataframe\">\n",
       "  <thead>\n",
       "    <tr style=\"text-align: right;\">\n",
       "      <th></th>\n",
       "      <th>Option</th>\n",
       "      <th>Type</th>\n",
       "      <th>E/A</th>\n",
       "      <th>Moneyness</th>\n",
       "      <th>Strike</th>\n",
       "      <th>Distance</th>\n",
       "      <th>Premium</th>\n",
       "      <th>volume</th>\n",
       "      <th>abs_Distance</th>\n",
       "    </tr>\n",
       "  </thead>\n",
       "  <tbody>\n",
       "    <tr>\n",
       "      <th>17</th>\n",
       "      <td>BOVAH117</td>\n",
       "      <td>CALL</td>\n",
       "      <td>E</td>\n",
       "      <td>ATM</td>\n",
       "      <td>117.0</td>\n",
       "      <td>-0.11</td>\n",
       "      <td>4.75</td>\n",
       "      <td>2342.05</td>\n",
       "      <td>0.11</td>\n",
       "    </tr>\n",
       "    <tr>\n",
       "      <th>93</th>\n",
       "      <td>BOVAT117</td>\n",
       "      <td>PUT</td>\n",
       "      <td>E</td>\n",
       "      <td>ATM</td>\n",
       "      <td>117.0</td>\n",
       "      <td>-0.11</td>\n",
       "      <td>2.10</td>\n",
       "      <td>9787.10</td>\n",
       "      <td>0.11</td>\n",
       "    </tr>\n",
       "  </tbody>\n",
       "</table>\n",
       "</div>"
      ],
      "text/plain": [
       "      Option  Type E/A Moneyness  Strike  Distance  Premium   volume  \\\n",
       "17  BOVAH117  CALL   E       ATM   117.0     -0.11     4.75  2342.05   \n",
       "93  BOVAT117   PUT   E       ATM   117.0     -0.11     2.10  9787.10   \n",
       "\n",
       "    abs_Distance  \n",
       "17          0.11  \n",
       "93          0.11  "
      ]
     },
     "execution_count": 4,
     "metadata": {},
     "output_type": "execute_result"
    }
   ],
   "source": [
    "## Collect back month data to get the strikes and premium of the operation\n",
    "exp_date_back = '2024-08-16'\n",
    "            \n",
    "options_chain_back = get_options_chain(underlying_ticker, exp_date_back)\n",
    "options_chain_back['abs_Distance'] = options_chain_back['Distance'].abs() \n",
    "options_chain_back[options_chain_back['Moneyness'] == 'ATM'].sort_values('abs_Distance').head(2)\n",
    "\n",
    "# options_chain_back[options_chain_back['Moneyness'] == 'OTM'].sort_values('abs_Distance').head(14).sort_values('Strike')"
   ]
  },
  {
   "cell_type": "markdown",
   "metadata": {},
   "source": [
    "## Calculating ATM Straddle\n",
    "This is made to define the expected move within the lifetime of the Options"
   ]
  },
  {
   "cell_type": "code",
   "execution_count": 5,
   "metadata": {},
   "outputs": [
    {
     "name": "stdout",
     "output_type": "stream",
     "text": [
      "ATM Straddle: 5.02\n",
      "Range Expectation using ATM Straddle 112.33 e 122.37\n"
     ]
    }
   ],
   "source": [
    "## calculate expected move within operation period\n",
    "atm_straddle, lower, upper = atm_short_straddle(options_chain_front, last_price)"
   ]
  },
  {
   "cell_type": "markdown",
   "metadata": {},
   "source": [
    "## Collecting Underlying Data "
   ]
  },
  {
   "cell_type": "code",
   "execution_count": 6,
   "metadata": {},
   "outputs": [],
   "source": [
    "## Dates to calculate opration period using \n",
    "# operation time in days \n",
    "days = 29"
   ]
  },
  {
   "cell_type": "code",
   "execution_count": 7,
   "metadata": {},
   "outputs": [
    {
     "name": "stdout",
     "output_type": "stream",
     "text": [
      "Volatility: 4.91% in last 29 days\n"
     ]
    }
   ],
   "source": [
    "rets = underlying.pct_change().dropna(axis=0)\n",
    "vol = annualize_vol(rets, days).iloc[0]  \n",
    "last_price = round(underlying.tail(1).reset_index(drop=True).iloc[0].iloc[0],2)\n",
    "\n",
    "print(f'Volatility: {vol:.2%} in last {days} days')"
   ]
  },
  {
   "cell_type": "code",
   "execution_count": 8,
   "metadata": {},
   "outputs": [
    {
     "name": "stdout",
     "output_type": "stream",
     "text": [
      "Range Expectation using ATM Straddle 111.58 e 123.12\n"
     ]
    },
    {
     "data": {
      "text/plain": [
       "(111.58420876382209, 123.1157912361779)"
      ]
     },
     "execution_count": 8,
     "metadata": {},
     "output_type": "execute_result"
    }
   ],
   "source": [
    "vol_based_short(last_price, vol, 1 )"
   ]
  },
  {
   "cell_type": "code",
   "execution_count": 9,
   "metadata": {},
   "outputs": [
    {
     "data": {
      "text/plain": [
       "5.347251810822326"
      ]
     },
     "execution_count": 9,
     "metadata": {},
     "output_type": "execute_result"
    }
   ],
   "source": [
    "(atm_straddle / last_price * 100) * 1.25"
   ]
  },
  {
   "cell_type": "code",
   "execution_count": 10,
   "metadata": {},
   "outputs": [
    {
     "data": {
      "text/plain": [
       "(5.02, 4.872627818222348, 0.9706429916777587)"
      ]
     },
     "execution_count": 10,
     "metadata": {},
     "output_type": "execute_result"
    }
   ],
   "source": [
    "## ATM straddle as Volatility approximation\n",
    "# .153 == implied vol\n",
    "straddle_aproxx = 0.8 * last_price * .153 * np.sqrt(days / 252)\n",
    "atm_straddle, straddle_aproxx, (straddle_aproxx/atm_straddle)"
   ]
  },
  {
   "cell_type": "markdown",
   "metadata": {},
   "source": [
    "## Selecting Options to construct Iron Condor"
   ]
  },
  {
   "cell_type": "code",
   "execution_count": 11,
   "metadata": {},
   "outputs": [
    {
     "name": "stdout",
     "output_type": "stream",
     "text": [
      "ATM Straddle: 5.02\n",
      "Range Expectation using ATM Straddle 112.33 e 122.37\n"
     ]
    }
   ],
   "source": [
    "# Define the strikes using front month ATM straddle as a proxy for expected move\n",
    "long_put_strike, short_put_strike, short_call_strike, long_call_strike = select_iron_condor_strikes(options_chain_front, last_price, wing_width=3)\n",
    "# long_put, short_put, short_call, long_call"
   ]
  },
  {
   "cell_type": "code",
   "execution_count": 12,
   "metadata": {},
   "outputs": [
    {
     "name": "stdout",
     "output_type": "stream",
     "text": [
      "long_put: 109.00\n",
      "short_put: 112.00\n",
      "short_call: 122.00\n",
      "long_call: 125.00\n"
     ]
    }
   ],
   "source": [
    "## print strikes\n",
    "print(f'long_put: {long_put_strike:.2f}')\n",
    "print(f'short_put: {short_put_strike:.2f}')\n",
    "print(f'short_call: {short_call_strike:.2f}')\n",
    "print(f'long_call: {long_call_strike:.2f}')"
   ]
  },
  {
   "cell_type": "code",
   "execution_count": 13,
   "metadata": {},
   "outputs": [
    {
     "name": "stdout",
     "output_type": "stream",
     "text": [
      "long_put: 109.00, 0.66\n",
      "short_put: 112.00, 1.05\n",
      "short_call: 122.00, 2.07\n",
      "long_call: 125.00, 1.10\n"
     ]
    }
   ],
   "source": [
    "## Collecting the premiuns from the options_chain_back\n",
    "long_put = options_chain_back[(options_chain_back['Strike'] == long_put_strike) & (options_chain_back['Type'] == 'PUT')]\n",
    "short_put = options_chain_back[(options_chain_back['Strike'] == short_put_strike) & (options_chain_back['Type'] == 'PUT')]\n",
    "short_call = options_chain_back[(options_chain_back['Strike'] == short_call_strike) & (options_chain_back['Type'] == 'CALL')]\n",
    "long_call = options_chain_back[(options_chain_back['Strike'] == long_call_strike) & (options_chain_back['Type'] == 'CALL')] \n",
    "\n",
    "long_put_premium = long_put['Premium'].iloc[0] \n",
    "short_put_premium = short_put['Premium'].iloc[0] \n",
    "short_call_premium = short_call['Premium'].iloc[0] \n",
    "long_call_premium = long_call['Premium'].iloc[0]\n",
    "\n",
    "## print premium \n",
    "print(f'long_put: {long_put_strike:.2f}, {long_put_premium:.2f}')\n",
    "print(f'short_put: {short_put_strike:.2f}, {short_put_premium:.2f}')\n",
    "print(f'short_call: {short_call_strike:.2f}, {short_call_premium:.2f}')\n",
    "print(f'long_call: {long_call_strike:.2f}, {long_call_premium:.2f}')"
   ]
  },
  {
   "cell_type": "code",
   "execution_count": 14,
   "metadata": {},
   "outputs": [
    {
     "name": "stdout",
     "output_type": "stream",
     "text": [
      "Call Spread: 0.97\n",
      "Put Spread: 0.39\n",
      "Call side pct: 71.32%\n",
      "Consider only doing the call bear spread\n"
     ]
    }
   ],
   "source": [
    "## Calculate how much each leg (puts vs calls) contribute to total credit \n",
    "put_spread =  short_put_premium - long_put_premium \n",
    "call_spread =  short_call_premium - long_call_premium\n",
    "print(f'Call Spread: {call_spread:.2f}\\nPut Spread: {put_spread:.2f}')\n",
    "call_spread_pct = call_spread / (call_spread+put_spread)\n",
    "print(f'Call side pct: {call_spread_pct:.2%}')\n",
    "\n",
    "## if call_spread_pct > .70 of total credit, unless there is some bullish bias, consider only doing the call bear spread\n",
    "if call_spread_pct > .70:\n",
    "    print(f'Consider only doing the call bear spread')\n",
    "else:    \n",
    "    print(f'both sides have good premium')"
   ]
  },
  {
   "cell_type": "code",
   "execution_count": 15,
   "metadata": {},
   "outputs": [
    {
     "name": "stdout",
     "output_type": "stream",
     "text": [
      "Position Risk: 16.40\n",
      "Gain Range: 10.00\n",
      "Credit Received/Max Profit: $13.60\n",
      "Managed Take Profit: $7.07\n",
      "Managed ROIC (net): 43.12%\n"
     ]
    }
   ],
   "source": [
    "## Calculates total money risked, legs lenght, total credit, managed Tp and managed ROIC\n",
    "max_loss, gain_range, credit_received, profit, roc_cost, leg_width = iron_condor(\n",
    "    options_chain_back,\n",
    "    long_put_strike,\n",
    "    short_put_strike,\n",
    "    short_call_strike,\n",
    "    long_call_strike\n",
    "        )"
   ]
  }
 ],
 "metadata": {
  "kernelspec": {
   "display_name": "Python 3",
   "language": "python",
   "name": "python3"
  },
  "language_info": {
   "codemirror_mode": {
    "name": "ipython",
    "version": 3
   },
   "file_extension": ".py",
   "mimetype": "text/x-python",
   "name": "python",
   "nbconvert_exporter": "python",
   "pygments_lexer": "ipython3",
   "version": "3.12.3"
  }
 },
 "nbformat": 4,
 "nbformat_minor": 2
}
