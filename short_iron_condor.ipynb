{
 "cells": [
  {
   "cell_type": "code",
   "execution_count": 1,
   "metadata": {},
   "outputs": [],
   "source": [
    "import pandas as pd\n",
    "import numpy as np\n",
    "import yfinance as yf\n",
    "from datetime import datetime\n",
    "from utils.functions import *\n",
    "# from utils.get_data_from_mt5 import *\n",
    "\n",
    "%load_ext autoreload\n",
    "%autoreload 2"
   ]
  },
  {
   "cell_type": "code",
   "execution_count": 2,
   "metadata": {},
   "outputs": [
    {
     "name": "stderr",
     "output_type": "stream",
     "text": [
      "[*********************100%%**********************]  1 of 1 completed"
     ]
    },
    {
     "name": "stdout",
     "output_type": "stream",
     "text": [
      "Standart Deviation: 4.55% in last 36 days\n"
     ]
    },
    {
     "name": "stderr",
     "output_type": "stream",
     "text": [
      "\n"
     ]
    }
   ],
   "source": [
    "## Dates\n",
    "start_dt = datetime(2024, 1,1) \n",
    "start = f'{start_dt.year}-{start_dt.month}-{start_dt.day}'\n",
    "end_dt = datetime.today()\n",
    "end = f'{end_dt.year}-{end_dt.month}-{end_dt.day}'\n",
    "\n",
    "## download stock data\n",
    "ticker = 'BOVA11'\n",
    "yf_ticker = 'BOVA11'+'.SA'\n",
    "underlying =  yf.download(yf_ticker, start=start, end=end)['Adj Close']\n",
    "\n",
    "rets = underlying.pct_change().dropna(axis=0)\n",
    "# rets = np.log(rets)\n",
    "\n",
    "days = 36\n",
    "\n",
    "vol = annualize_vol(rets, days)\n",
    "last_price = round(underlying.tail(1).reset_index(drop=True).iloc[0],2)\n",
    "\n",
    "print(f'Standart Deviation: {vol:.2%} in last {days} days')"
   ]
  },
  {
   "cell_type": "markdown",
   "metadata": {},
   "source": [
    "## Options Data Collection"
   ]
  },
  {
   "cell_type": "code",
   "execution_count": 3,
   "metadata": {},
   "outputs": [
    {
     "data": {
      "text/html": [
       "<div>\n",
       "<style scoped>\n",
       "    .dataframe tbody tr th:only-of-type {\n",
       "        vertical-align: middle;\n",
       "    }\n",
       "\n",
       "    .dataframe tbody tr th {\n",
       "        vertical-align: top;\n",
       "    }\n",
       "\n",
       "    .dataframe thead th {\n",
       "        text-align: right;\n",
       "    }\n",
       "</style>\n",
       "<table border=\"1\" class=\"dataframe\">\n",
       "  <thead>\n",
       "    <tr style=\"text-align: right;\">\n",
       "      <th></th>\n",
       "      <th>Option</th>\n",
       "      <th>Type</th>\n",
       "      <th>E/A</th>\n",
       "      <th>Moneyness</th>\n",
       "      <th>Strike</th>\n",
       "      <th>Distance</th>\n",
       "      <th>Premium</th>\n",
       "      <th>volume</th>\n",
       "    </tr>\n",
       "  </thead>\n",
       "  <tbody>\n",
       "    <tr>\n",
       "      <th>0</th>\n",
       "      <td>BOVAH1</td>\n",
       "      <td>CALL</td>\n",
       "      <td>A</td>\n",
       "      <td>ITM</td>\n",
       "      <td>108.0</td>\n",
       "      <td>-11.31</td>\n",
       "      <td>12.49</td>\n",
       "      <td>189.20</td>\n",
       "    </tr>\n",
       "    <tr>\n",
       "      <th>1</th>\n",
       "      <td>BOVAH2</td>\n",
       "      <td>CALL</td>\n",
       "      <td>A</td>\n",
       "      <td>ITM</td>\n",
       "      <td>118.0</td>\n",
       "      <td>-3.10</td>\n",
       "      <td>4.60</td>\n",
       "      <td>5513973.85</td>\n",
       "    </tr>\n",
       "    <tr>\n",
       "      <th>2</th>\n",
       "      <td>BOVAH3</td>\n",
       "      <td>CALL</td>\n",
       "      <td>E</td>\n",
       "      <td>ITM</td>\n",
       "      <td>113.0</td>\n",
       "      <td>-7.20</td>\n",
       "      <td>8.73</td>\n",
       "      <td>61383.50</td>\n",
       "    </tr>\n",
       "    <tr>\n",
       "      <th>3</th>\n",
       "      <td>BOVAH11</td>\n",
       "      <td>CALL</td>\n",
       "      <td>E</td>\n",
       "      <td>ITM</td>\n",
       "      <td>115.0</td>\n",
       "      <td>-5.56</td>\n",
       "      <td>7.25</td>\n",
       "      <td>882147.64</td>\n",
       "    </tr>\n",
       "    <tr>\n",
       "      <th>4</th>\n",
       "      <td>BOVAH80</td>\n",
       "      <td>CALL</td>\n",
       "      <td>A</td>\n",
       "      <td>ITM</td>\n",
       "      <td>80.0</td>\n",
       "      <td>-34.30</td>\n",
       "      <td>41.47</td>\n",
       "      <td>207819.05</td>\n",
       "    </tr>\n",
       "    <tr>\n",
       "      <th>...</th>\n",
       "      <td>...</td>\n",
       "      <td>...</td>\n",
       "      <td>...</td>\n",
       "      <td>...</td>\n",
       "      <td>...</td>\n",
       "      <td>...</td>\n",
       "      <td>...</td>\n",
       "      <td>...</td>\n",
       "    </tr>\n",
       "    <tr>\n",
       "      <th>155</th>\n",
       "      <td>BOVAT950</td>\n",
       "      <td>PUT</td>\n",
       "      <td>E</td>\n",
       "      <td>OTM</td>\n",
       "      <td>95.0</td>\n",
       "      <td>-21.98</td>\n",
       "      <td>0.05</td>\n",
       "      <td>21581.09</td>\n",
       "    </tr>\n",
       "    <tr>\n",
       "      <th>156</th>\n",
       "      <td>BOVAT960</td>\n",
       "      <td>PUT</td>\n",
       "      <td>E</td>\n",
       "      <td>OTM</td>\n",
       "      <td>96.0</td>\n",
       "      <td>-21.16</td>\n",
       "      <td>0.05</td>\n",
       "      <td>2193.43</td>\n",
       "    </tr>\n",
       "    <tr>\n",
       "      <th>157</th>\n",
       "      <td>BOVAT970</td>\n",
       "      <td>PUT</td>\n",
       "      <td>E</td>\n",
       "      <td>OTM</td>\n",
       "      <td>97.0</td>\n",
       "      <td>-20.34</td>\n",
       "      <td>0.05</td>\n",
       "      <td>3739.55</td>\n",
       "    </tr>\n",
       "    <tr>\n",
       "      <th>158</th>\n",
       "      <td>BOVAT980</td>\n",
       "      <td>PUT</td>\n",
       "      <td>E</td>\n",
       "      <td>OTM</td>\n",
       "      <td>98.0</td>\n",
       "      <td>-19.52</td>\n",
       "      <td>0.06</td>\n",
       "      <td>2457.65</td>\n",
       "    </tr>\n",
       "    <tr>\n",
       "      <th>159</th>\n",
       "      <td>BOVAT990</td>\n",
       "      <td>PUT</td>\n",
       "      <td>E</td>\n",
       "      <td>OTM</td>\n",
       "      <td>99.0</td>\n",
       "      <td>-18.70</td>\n",
       "      <td>0.06</td>\n",
       "      <td>5847.60</td>\n",
       "    </tr>\n",
       "  </tbody>\n",
       "</table>\n",
       "<p>160 rows × 8 columns</p>\n",
       "</div>"
      ],
      "text/plain": [
       "       Option  Type E/A Moneyness  Strike  Distance  Premium      volume\n",
       "0      BOVAH1  CALL   A       ITM   108.0    -11.31    12.49      189.20\n",
       "1      BOVAH2  CALL   A       ITM   118.0     -3.10     4.60  5513973.85\n",
       "2      BOVAH3  CALL   E       ITM   113.0     -7.20     8.73    61383.50\n",
       "3     BOVAH11  CALL   E       ITM   115.0     -5.56     7.25   882147.64\n",
       "4     BOVAH80  CALL   A       ITM    80.0    -34.30    41.47   207819.05\n",
       "..        ...   ...  ..       ...     ...       ...      ...         ...\n",
       "155  BOVAT950   PUT   E       OTM    95.0    -21.98     0.05    21581.09\n",
       "156  BOVAT960   PUT   E       OTM    96.0    -21.16     0.05     2193.43\n",
       "157  BOVAT970   PUT   E       OTM    97.0    -20.34     0.05     3739.55\n",
       "158  BOVAT980   PUT   E       OTM    98.0    -19.52     0.06     2457.65\n",
       "159  BOVAT990   PUT   E       OTM    99.0    -18.70     0.06     5847.60\n",
       "\n",
       "[160 rows x 8 columns]"
      ]
     },
     "execution_count": 3,
     "metadata": {},
     "output_type": "execute_result"
    }
   ],
   "source": [
    "exp_date_front = '2024-08-16'\n",
    "            \n",
    "options_chain_front = get_options_chain(ticker, exp_date_front)\n",
    "options_chain_front"
   ]
  },
  {
   "cell_type": "code",
   "execution_count": 4,
   "metadata": {},
   "outputs": [
    {
     "data": {
      "text/html": [
       "<div>\n",
       "<style scoped>\n",
       "    .dataframe tbody tr th:only-of-type {\n",
       "        vertical-align: middle;\n",
       "    }\n",
       "\n",
       "    .dataframe tbody tr th {\n",
       "        vertical-align: top;\n",
       "    }\n",
       "\n",
       "    .dataframe thead th {\n",
       "        text-align: right;\n",
       "    }\n",
       "</style>\n",
       "<table border=\"1\" class=\"dataframe\">\n",
       "  <thead>\n",
       "    <tr style=\"text-align: right;\">\n",
       "      <th></th>\n",
       "      <th>Option</th>\n",
       "      <th>Type</th>\n",
       "      <th>E/A</th>\n",
       "      <th>Moneyness</th>\n",
       "      <th>Strike</th>\n",
       "      <th>Distance</th>\n",
       "      <th>Premium</th>\n",
       "      <th>volume</th>\n",
       "      <th>abs_Distance</th>\n",
       "    </tr>\n",
       "  </thead>\n",
       "  <tbody>\n",
       "    <tr>\n",
       "      <th>21</th>\n",
       "      <td>BOVAH122</td>\n",
       "      <td>CALL</td>\n",
       "      <td>A</td>\n",
       "      <td>ATM</td>\n",
       "      <td>122.0</td>\n",
       "      <td>0.19</td>\n",
       "      <td>1.61</td>\n",
       "      <td>6334394.32</td>\n",
       "      <td>0.19</td>\n",
       "    </tr>\n",
       "    <tr>\n",
       "      <th>101</th>\n",
       "      <td>BOVAT122</td>\n",
       "      <td>PUT</td>\n",
       "      <td>E</td>\n",
       "      <td>ATM</td>\n",
       "      <td>122.0</td>\n",
       "      <td>0.19</td>\n",
       "      <td>1.80</td>\n",
       "      <td>5823203.00</td>\n",
       "      <td>0.19</td>\n",
       "    </tr>\n",
       "  </tbody>\n",
       "</table>\n",
       "</div>"
      ],
      "text/plain": [
       "       Option  Type E/A Moneyness  Strike  Distance  Premium      volume  \\\n",
       "21   BOVAH122  CALL   A       ATM   122.0      0.19     1.61  6334394.32   \n",
       "101  BOVAT122   PUT   E       ATM   122.0      0.19     1.80  5823203.00   \n",
       "\n",
       "     abs_Distance  \n",
       "21           0.19  \n",
       "101          0.19  "
      ]
     },
     "execution_count": 4,
     "metadata": {},
     "output_type": "execute_result"
    }
   ],
   "source": [
    "## Collect front month data to calculate expected move in the operation period  \n",
    "exp_date_front = '2024-08-16'\n",
    "            \n",
    "options_chain_front = get_options_chain(ticker, exp_date_front)\n",
    "options_chain_front['abs_Distance'] = options_chain_front['Distance'].abs() \n",
    "options_chain_front[options_chain_front['Moneyness'] == 'ATM'].sort_values('abs_Distance').head(2)\n",
    "\n",
    "# options_chain_front[options_chain_front['Moneyness'] == 'OTM'].sort_values('abs_Distance').head(14).sort_values('Strike')"
   ]
  },
  {
   "cell_type": "code",
   "execution_count": 5,
   "metadata": {},
   "outputs": [
    {
     "data": {
      "text/html": [
       "<div>\n",
       "<style scoped>\n",
       "    .dataframe tbody tr th:only-of-type {\n",
       "        vertical-align: middle;\n",
       "    }\n",
       "\n",
       "    .dataframe tbody tr th {\n",
       "        vertical-align: top;\n",
       "    }\n",
       "\n",
       "    .dataframe thead th {\n",
       "        text-align: right;\n",
       "    }\n",
       "</style>\n",
       "<table border=\"1\" class=\"dataframe\">\n",
       "  <thead>\n",
       "    <tr style=\"text-align: right;\">\n",
       "      <th></th>\n",
       "      <th>Option</th>\n",
       "      <th>Type</th>\n",
       "      <th>E/A</th>\n",
       "      <th>Moneyness</th>\n",
       "      <th>Strike</th>\n",
       "      <th>Distance</th>\n",
       "      <th>Premium</th>\n",
       "      <th>volume</th>\n",
       "      <th>abs_Distance</th>\n",
       "    </tr>\n",
       "  </thead>\n",
       "  <tbody>\n",
       "    <tr>\n",
       "      <th>21</th>\n",
       "      <td>BOVAI122</td>\n",
       "      <td>CALL</td>\n",
       "      <td>A</td>\n",
       "      <td>ATM</td>\n",
       "      <td>122.0</td>\n",
       "      <td>0.19</td>\n",
       "      <td>3.60</td>\n",
       "      <td>4806188.55</td>\n",
       "      <td>0.19</td>\n",
       "    </tr>\n",
       "    <tr>\n",
       "      <th>104</th>\n",
       "      <td>BOVAU122</td>\n",
       "      <td>PUT</td>\n",
       "      <td>E</td>\n",
       "      <td>ATM</td>\n",
       "      <td>122.0</td>\n",
       "      <td>0.19</td>\n",
       "      <td>2.27</td>\n",
       "      <td>3132472.96</td>\n",
       "      <td>0.19</td>\n",
       "    </tr>\n",
       "  </tbody>\n",
       "</table>\n",
       "</div>"
      ],
      "text/plain": [
       "       Option  Type E/A Moneyness  Strike  Distance  Premium      volume  \\\n",
       "21   BOVAI122  CALL   A       ATM   122.0      0.19     3.60  4806188.55   \n",
       "104  BOVAU122   PUT   E       ATM   122.0      0.19     2.27  3132472.96   \n",
       "\n",
       "     abs_Distance  \n",
       "21           0.19  \n",
       "104          0.19  "
      ]
     },
     "execution_count": 5,
     "metadata": {},
     "output_type": "execute_result"
    }
   ],
   "source": [
    "## Collect back month data to get the strikes and premium of the operation\n",
    "exp_date_back = '2024-09-20'\n",
    "            \n",
    "options_chain_back = get_options_chain(ticker, exp_date_back)\n",
    "options_chain_back['abs_Distance'] = options_chain_back['Distance'].abs() \n",
    "options_chain_back[options_chain_back['Moneyness'] == 'ATM'].sort_values('abs_Distance').head(2)\n",
    "\n",
    "# options_chain_back[options_chain_back['Moneyness'] == 'OTM'].sort_values('abs_Distance').head(14).sort_values('Strike')"
   ]
  },
  {
   "cell_type": "markdown",
   "metadata": {},
   "source": [
    "## Calculating ATM Straddle\n",
    "This is made to define the expected move within the lifetime of the Options"
   ]
  },
  {
   "cell_type": "code",
   "execution_count": 6,
   "metadata": {},
   "outputs": [
    {
     "name": "stdout",
     "output_type": "stream",
     "text": [
      "ATM Straddle: 3.41\n",
      "Range Expectation using ATM Straddle 118.97 e 125.79\n"
     ]
    }
   ],
   "source": [
    "## calculate expected move within operation period\n",
    "atm_straddle, lower, upper = atm_short_straddle(options_chain_front, last_price)"
   ]
  },
  {
   "cell_type": "code",
   "execution_count": 7,
   "metadata": {},
   "outputs": [
    {
     "name": "stdout",
     "output_type": "stream",
     "text": [
      "Standard Deviation: 4.55% in last 36 days\n"
     ]
    }
   ],
   "source": [
    "sd = annualize_vol(rets, days)\n",
    "print(f'Standard Deviation: {sd:.2%} in last {days} days')"
   ]
  },
  {
   "cell_type": "code",
   "execution_count": 8,
   "metadata": {},
   "outputs": [
    {
     "name": "stdout",
     "output_type": "stream",
     "text": [
      "Mean Absolute Deviation: 4.28% in last 36 days\n"
     ]
    }
   ],
   "source": [
    "from statsmodels import robust\n",
    "def annualize_vol_mad(r, periods_per_year=252):\n",
    "    return robust.mad(r)*(periods_per_year**0.5)\n",
    "\n",
    "mad = annualize_vol_mad(rets, days)\n",
    "print(f'Mean Absolute Deviation: {mad:.2%} in last {days} days')"
   ]
  },
  {
   "cell_type": "code",
   "execution_count": 9,
   "metadata": {},
   "outputs": [
    {
     "name": "stdout",
     "output_type": "stream",
     "text": [
      "Razão MAD/SD: 93.94%\n"
     ]
    }
   ],
   "source": [
    "def mad_sd_ratio(mad, sd):\n",
    "    ratio = mad / sd\n",
    "    return ratio, ratio < 0.8\n",
    "\n",
    "ratio = mad_sd_ratio(mad, sd)\n",
    "print(f'Razão MAD/SD: {ratio[0]:.2%}')"
   ]
  },
  {
   "cell_type": "code",
   "execution_count": 10,
   "metadata": {},
   "outputs": [
    {
     "name": "stdout",
     "output_type": "stream",
     "text": [
      "SD real: 4.55% -> MAD approximation: 5.35% - diff: 14.84%\n",
      "MAD real: 4.28% -> SD approximation: 3.64% - diff: -17.43%\n"
     ]
    }
   ],
   "source": [
    "mad_approx = mad * 1.25\n",
    "vol_approx = vol * .8\n",
    "\n",
    "print(f'SD real: {vol:.2%} -> MAD approximation: {mad_approx:.2%} - diff: {1-(vol / mad_approx):.2%}')\n",
    "print(f'MAD real: {mad:.2%} -> SD approximation: {vol_approx:.2%} - diff: {1-(mad / vol_approx):.2%}')"
   ]
  },
  {
   "cell_type": "code",
   "execution_count": 11,
   "metadata": {},
   "outputs": [
    {
     "name": "stdout",
     "output_type": "stream",
     "text": [
      "Range Expectation using ATM Straddle 116.81 e 127.95\n",
      "Range Expectation using ATM Straddle 117.14 e 127.62\n"
     ]
    },
    {
     "data": {
      "text/plain": [
       "'(117.14497925264334, 127.61502074735665)'"
      ]
     },
     "execution_count": 11,
     "metadata": {},
     "output_type": "execute_result"
    }
   ],
   "source": [
    "f'{vol_based_short(last_price, vol, 1)}'\n",
    "f'{vol_based_short(last_price, mad, 1)}'"
   ]
  },
  {
   "cell_type": "code",
   "execution_count": 12,
   "metadata": {},
   "outputs": [
    {
     "data": {
      "text/plain": [
       "3.4830037587841156"
      ]
     },
     "execution_count": 12,
     "metadata": {},
     "output_type": "execute_result"
    }
   ],
   "source": [
    "(atm_straddle / last_price * 100) * 1.25"
   ]
  },
  {
   "cell_type": "code",
   "execution_count": 13,
   "metadata": {},
   "outputs": [
    {
     "data": {
      "text/plain": [
       "2.7864030070272925"
      ]
     },
     "execution_count": 13,
     "metadata": {},
     "output_type": "execute_result"
    }
   ],
   "source": [
    "(atm_straddle / last_price * 100)"
   ]
  },
  {
   "cell_type": "code",
   "execution_count": 14,
   "metadata": {},
   "outputs": [
    {
     "data": {
      "text/plain": [
       "(3.41, 4.847554623279895, 1.4215702707565674)"
      ]
     },
     "execution_count": 14,
     "metadata": {},
     "output_type": "execute_result"
    }
   ],
   "source": [
    "## ATM straddle as Volatility approximation\n",
    "# .153 == implied vol\n",
    "straddle_aproxx = 0.8 * last_price * .131 * np.sqrt(days / 252)\n",
    "atm_straddle, straddle_aproxx, (straddle_aproxx/atm_straddle)"
   ]
  },
  {
   "cell_type": "markdown",
   "metadata": {},
   "source": [
    "## Selecting Options to construct Iron Condor"
   ]
  },
  {
   "cell_type": "code",
   "execution_count": 15,
   "metadata": {},
   "outputs": [
    {
     "name": "stdout",
     "output_type": "stream",
     "text": [
      "ATM Straddle: 3.41\n",
      "Range Expectation using ATM Straddle 118.97 e 125.79\n"
     ]
    }
   ],
   "source": [
    "# Define the strikes using front month ATM straddle as a proxy for expected move\n",
    "wing_width = 3 \n",
    "long_put_strike, short_put_strike, short_call_strike, long_call_strike = select_iron_condor_strikes(options_chain_front, last_price, wing_width=wing_width)\n",
    "\n",
    "# long_put, short_put, short_call, long_call"
   ]
  },
  {
   "cell_type": "code",
   "execution_count": 16,
   "metadata": {},
   "outputs": [
    {
     "name": "stdout",
     "output_type": "stream",
     "text": [
      "BOVAU116, 116.0, 1.05\n",
      "BOVAU119, 119.0, 1.52\n",
      "BOVAI126, 126.0, 1.49\n",
      "BOVAI129, 129.0, 0.7\n"
     ]
    }
   ],
   "source": [
    "## Collecting the premiuns from the options_chain_back\n",
    "long_put = options_chain_back[(options_chain_back['Strike'] == long_put_strike) & (options_chain_back['Type'] == 'PUT')]\n",
    "short_put = options_chain_back[(options_chain_back['Strike'] == short_put_strike) & (options_chain_back['Type'] == 'PUT')]\n",
    "short_call = options_chain_back[(options_chain_back['Strike'] == short_call_strike) & (options_chain_back['Type'] == 'CALL')]\n",
    "long_call = options_chain_back[(options_chain_back['Strike'] == long_call_strike) & (options_chain_back['Type'] == 'CALL')] \n",
    "\n",
    "list_df = [long_put, short_put, short_call, long_call] \n",
    "\n",
    "for df in list_df:\n",
    "    print(f'{df['Option'].iloc[0]}, {df['Strike'].iloc[0]}, {df['Premium'].iloc[0]}')"
   ]
  },
  {
   "cell_type": "code",
   "execution_count": 17,
   "metadata": {},
   "outputs": [
    {
     "name": "stdout",
     "output_type": "stream",
     "text": [
      "long_put: 116.00, 1.05\n",
      "short_put: 119.00, 1.52\n",
      "short_call: 126.00, 1.49\n",
      "long_call: 129.00, 0.70\n"
     ]
    }
   ],
   "source": [
    "long_put_premium = long_put['Premium'].iloc[0] \n",
    "short_put_premium = short_put['Premium'].iloc[0] \n",
    "short_call_premium = short_call['Premium'].iloc[0] \n",
    "long_call_premium = long_call['Premium'].iloc[0]\n",
    "\n",
    "## print premium \n",
    "print(f'long_put: {long_put_strike:.2f}, {long_put_premium:.2f}')\n",
    "print(f'short_put: {short_put_strike:.2f}, {short_put_premium:.2f}')\n",
    "print(f'short_call: {short_call_strike:.2f}, {short_call_premium:.2f}')\n",
    "print(f'long_call: {long_call_strike:.2f}, {long_call_premium:.2f}')"
   ]
  },
  {
   "cell_type": "code",
   "execution_count": 18,
   "metadata": {},
   "outputs": [
    {
     "name": "stdout",
     "output_type": "stream",
     "text": [
      "Call Spread: 0.79\n",
      "Put Spread: 0.47\n",
      "Call side pct: 62.70%\n",
      "both sides have good premium\n"
     ]
    }
   ],
   "source": [
    "## Calculate how much each leg (puts vs calls) contribute to total credit \n",
    "put_spread =  short_put_premium - long_put_premium \n",
    "call_spread =  short_call_premium - long_call_premium\n",
    "print(f'Call Spread: {call_spread:.2f}\\nPut Spread: {put_spread:.2f}')\n",
    "call_spread_pct = call_spread / (call_spread+put_spread)\n",
    "print(f'Call side pct: {call_spread_pct:.2%}')\n",
    "\n",
    "## if call_spread_pct > .70 of total credit\n",
    "## unless there is some bullish bias, consider only doing the call bear spread\n",
    "if call_spread_pct > .70:\n",
    "    print(f'Consider only doing the call bear spread')\n",
    "    c = call_spread/(wing_width-call_spread)\n",
    "    print(f'Call side managed ROIC(net){c * .65:.2%}') \n",
    "else:    \n",
    "    print(f'both sides have good premium')"
   ]
  },
  {
   "cell_type": "code",
   "execution_count": 19,
   "metadata": {},
   "outputs": [
    {
     "name": "stdout",
     "output_type": "stream",
     "text": [
      "Position Risk: 17.40\n",
      "Gain Range: 7.00\n",
      "Credit Received/Max Profit: $12.60\n",
      "Managed Take Profit: $6.55\n",
      "Managed ROIC (net): 37.66%\n"
     ]
    }
   ],
   "source": [
    "## Calculates total money risked, legs lenght, total credit, managed Tp and managed ROIC\n",
    "max_loss, gain_range, credit_received, profit, roc_cost, leg_width = iron_condor(\n",
    "    options_chain_back,\n",
    "    long_put_strike,\n",
    "    short_put_strike,\n",
    "    short_call_strike,\n",
    "    long_call_strike\n",
    "        )"
   ]
  },
  {
   "cell_type": "markdown",
   "metadata": {},
   "source": [
    "## Expected Move and Kelly Criterion"
   ]
  },
  {
   "cell_type": "code",
   "execution_count": null,
   "metadata": {},
   "outputs": [],
   "source": [
    "import yfinance as yf\n",
    "import numpy as np\n",
    "import pandas as pd\n",
    "import math\n",
    "\n",
    "from utils.bs_funcs import *\n",
    "\n",
    "%load_ext autoreload\n",
    "%autoreload 2"
   ]
  },
  {
   "cell_type": "code",
   "execution_count": null,
   "metadata": {},
   "outputs": [
    {
     "name": "stderr",
     "output_type": "stream",
     "text": [
      "[*********************100%%**********************]  1 of 1 completed\n"
     ]
    }
   ],
   "source": [
    "df = yf.download('BOVA11.SA', period='10Y')\n",
    "rets = df['Close'].pct_change().dropna()"
   ]
  },
  {
   "cell_type": "code",
   "execution_count": null,
   "metadata": {},
   "outputs": [
    {
     "name": "stdout",
     "output_type": "stream",
     "text": [
      "Average Annual Returns: 9.13%\n"
     ]
    }
   ],
   "source": [
    "mu = annualize_rets(rets[:-252])\n",
    "print(f'Average Annual Returns: {mu:.2%}')"
   ]
  },
  {
   "cell_type": "code",
   "execution_count": null,
   "metadata": {},
   "outputs": [],
   "source": [
    "S = 124.04  # Preço Ação\n",
    "K = 124  # Strike \n",
    "dte = 36 # dia ate venciemnto \n",
    "T = dte/252   # ano até vencmento\n",
    "r = 0.1025 # taxa livre de risco\n",
    "market_price = 3.23  # Market price of the option"
   ]
  },
  {
   "cell_type": "code",
   "execution_count": null,
   "metadata": {},
   "outputs": [
    {
     "name": "stdout",
     "output_type": "stream",
     "text": [
      "Realized ann Volatility: 12.13%\n",
      "Implied ann Volatility: 11.78%\n"
     ]
    }
   ],
   "source": [
    "rv = realized_vol(df['Close'][-dte:-1], 365)\n",
    "iv = implied_vol(S, K, T, r, market_price)\n",
    "yz_vol = yz_volatility(df, dte)\n",
    "\n",
    "# print(f'YZ vol: {yz_vol* (dte/365):.2%}') \n",
    "print(f\"Realized ann Volatility: {rv:.2%}\")\n",
    "print(f\"Implied ann Volatility: {iv:.2%}\")\n",
    "# print(f\"Realized dte Volatility: {rv * (dte/365):.2%}\")\n",
    "# print(f\"Implied dte Volatility: {iv * (dte/365):.2%}\")"
   ]
  },
  {
   "cell_type": "code",
   "execution_count": null,
   "metadata": {},
   "outputs": [],
   "source": [
    "sigma = rv"
   ]
  },
  {
   "cell_type": "code",
   "execution_count": null,
   "metadata": {},
   "outputs": [
    {
     "name": "stdout",
     "output_type": "stream",
     "text": [
      "Expected Move: 5.69\n",
      "Expected lower range: 130.00\n",
      "Expected upper range: 118.00\n",
      "Expected Move / Spot: 4.59%\n"
     ]
    }
   ],
   "source": [
    "# expected_move = mad_straddle(S, sigma, dte)\n",
    "expected_move = straddle(S, sigma, dte)\n",
    "\n",
    "ceil = math.ceil(K + expected_move)\n",
    "floor = math.floor(K - expected_move)\n",
    "\n",
    "\n",
    "print(f'Expected Move: {expected_move:.2f}')\n",
    "print(f'Expected lower range: {ceil:.2f}')\n",
    "print(f'Expected upper range: {floor:.2f}')\n",
    "print(f'Expected Move / Spot: {expected_move / S:.2%}') "
   ]
  },
  {
   "cell_type": "code",
   "execution_count": null,
   "metadata": {},
   "outputs": [
    {
     "name": "stdout",
     "output_type": "stream",
     "text": [
      "Implict Volatility until DTE:3.81%\n",
      "Implict Move until DTE:4.73\n"
     ]
    }
   ],
   "source": [
    "# def iv_atm_straddle(straddle, S, T):\n",
    "#     time_years = T / 365\n",
    "#     return straddle / (S * (time_years ** 0.5))\n",
    "\n",
    "# iv_atm_straddle(expected_move, S, dte) \n",
    "\n",
    "def iv_dte(annual_vol, dte): \n",
    "    return annual_vol * np.sqrt(dte/365)\n",
    "       \n",
    "yz_dte_vol = iv_dte(sigma, dte)\n",
    "print(f'Implict Volatility until DTE:{yz_dte_vol:.2%}')\n",
    "print(f'Implict Move until DTE:{yz_dte_vol*S:.2F}')"
   ]
  },
  {
   "cell_type": "code",
   "execution_count": null,
   "metadata": {},
   "outputs": [
    {
     "name": "stdout",
     "output_type": "stream",
     "text": [
      "4.94%\n"
     ]
    }
   ],
   "source": [
    "straddle_price = 4.9\n",
    "mad_straddle_ap = (straddle_price / S) * 1.25\n",
    "print(f\"{mad_straddle_ap:.2%}\")"
   ]
  },
  {
   "cell_type": "code",
   "execution_count": 20,
   "metadata": {},
   "outputs": [
    {
     "ename": "NameError",
     "evalue": "name 'dte' is not defined",
     "output_type": "error",
     "traceback": [
      "\u001b[1;31m---------------------------------------------------------------------------\u001b[0m",
      "\u001b[1;31mNameError\u001b[0m                                 Traceback (most recent call last)",
      "Cell \u001b[1;32mIn[20], line 1\u001b[0m\n\u001b[1;32m----> 1\u001b[0m per_years \u001b[38;5;241m=\u001b[39m \u001b[43mdte\u001b[49m\u001b[38;5;241m/\u001b[39m\u001b[38;5;241m252\u001b[39m\n\u001b[0;32m      2\u001b[0m n_scenarios\u001b[38;5;241m=\u001b[39m\u001b[38;5;241m10000\u001b[39m\n\u001b[0;32m      3\u001b[0m steps_per_year\u001b[38;5;241m=\u001b[39m\u001b[38;5;241m252\u001b[39m\n",
      "\u001b[1;31mNameError\u001b[0m: name 'dte' is not defined"
     ]
    }
   ],
   "source": [
    "per_years = dte/252\n",
    "n_scenarios=10000\n",
    "steps_per_year=252\n",
    " \n",
    "paths = gbm(per_years, n_scenarios, mu, sigma, steps_per_year, K)[:21]\n",
    "win_pct, loss_above, loss_bellow = plot_paths(paths, ceiling=ceil+1, floor=floor+1)"
   ]
  },
  {
   "cell_type": "code",
   "execution_count": null,
   "metadata": {},
   "outputs": [
    {
     "name": "stdout",
     "output_type": "stream",
     "text": [
      "Recommended fraction of portfolio for this trade: 9.35%\n",
      "Max risk for this trade: R$ 10.29\n"
     ]
    }
   ],
   "source": [
    "\n",
    "# Calculate the recommended fraction of credit to invest (half Kelly)\n",
    "recommended_fraction = kelly_criterion(win_pct, 0.25, bet_factor=.5, portfolio_size=110)\n",
    "print(f\"Recommended fraction of portfolio for this trade: {recommended_fraction[0]:.2%}\")\n",
    "print(f\"Max risk for this trade: R$ {recommended_fraction[1]:.2f}\")"
   ]
  }
 ],
 "metadata": {
  "kernelspec": {
   "display_name": "Python 3",
   "language": "python",
   "name": "python3"
  },
  "language_info": {
   "codemirror_mode": {
    "name": "ipython",
    "version": 3
   },
   "file_extension": ".py",
   "mimetype": "text/x-python",
   "name": "python",
   "nbconvert_exporter": "python",
   "pygments_lexer": "ipython3",
   "version": "3.12.3"
  }
 },
 "nbformat": 4,
 "nbformat_minor": 2
}
