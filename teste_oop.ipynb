{
 "cells": [
  {
   "cell_type": "code",
   "execution_count": 1,
   "metadata": {},
   "outputs": [],
   "source": [
    "from utils.bs_oop import Black_and_Scholes\n",
    "from utils.bs_funcs import *"
   ]
  },
  {
   "cell_type": "code",
   "execution_count": 2,
   "metadata": {},
   "outputs": [],
   "source": [
    "S = 120\n",
    "K = 122\n",
    "T = 45/252\n",
    "r = .10\n",
    "sigma = .16 \n",
    "type = 'c'\n",
    "market_price = 3.25\n",
    "\n",
    "bs = Black_and_Scholes(S, K, T, r, sigma, type)"
   ]
  },
  {
   "cell_type": "code",
   "execution_count": 3,
   "metadata": {},
   "outputs": [
    {
     "name": "stdout",
     "output_type": "stream",
     "text": [
      "Preço Opção: 3.31\n",
      "Delta: 0.5213\n",
      "Vega: 0.2020\n",
      "Theta: -0.0410\n",
      "Gamma: 0.0491\n",
      "Rho: 0.1058\n",
      "IV: 0.1568\n"
     ]
    }
   ],
   "source": [
    "bs_price = bs.black_scholes()\n",
    "delta = bs.delta()\n",
    "vega = bs.vega()\n",
    "theta = bs.theta()\n",
    "gamma = bs.gamma()\n",
    "rho = bs.rho()\n",
    "iv = bs.implied_vol(market_price)\n",
    "\n",
    "print(f'Preço Opção: {bs_price:.2f}')\n",
    "print(f'Delta: {delta:.4f}')\n",
    "print(f'Vega: {vega:.4f}')\n",
    "print(f'Theta: {theta:.4f}')\n",
    "print(f'Gamma: {gamma:.4f}')\n",
    "print(f'Rho: {rho:.4f}')\n",
    "print(f'IV: {iv:.4f}')"
   ]
  },
  {
   "cell_type": "code",
   "execution_count": 4,
   "metadata": {},
   "outputs": [
    {
     "name": "stdout",
     "output_type": "stream",
     "text": [
      "Preço Opção:3.31\n",
      "Delta: 0.5213\n",
      "Vega: 0.2020\n",
      "Theta: -0.0410\n",
      "Gamma: 0.0491\n",
      "Rho: 0.1058\n",
      "IV: 0.1568\n"
     ]
    }
   ],
   "source": [
    "from utils.bs_funcs import *\n",
    "\n",
    "print(f'Preço Opção:{black_scholes(S, K, T, r, sigma, type) :.2f}')\n",
    "print(f'Delta: {delta(S, K, T, r, sigma, type) :.4f}')\n",
    "print(f'Vega: {vega(S, K, T, r, sigma) :.4f}')\n",
    "print(f'Theta: {theta(S, K, T, r, sigma, type) :.4f}')\n",
    "print(f'Gamma: {gamma(S, K, T, r, sigma) :.4f}')\n",
    "print(f'Rho: {rho(S, K, T, r, sigma, type) :.4f}')\n",
    "print(f'IV: {implied_vol(S, K, T, r, market_price, type):.4f}')"
   ]
  },
  {
   "cell_type": "code",
   "execution_count": 19,
   "metadata": {},
   "outputs": [
    {
     "data": {
      "text/plain": [
       "0.11734147939374981"
      ]
     },
     "execution_count": 19,
     "metadata": {},
     "output_type": "execute_result"
    }
   ],
   "source": [
    "implied_vol(130., 130.0, 31/252, 0.10, 3.01, 'c')\n"
   ]
  }
 ],
 "metadata": {
  "kernelspec": {
   "display_name": "Python 3",
   "language": "python",
   "name": "python3"
  },
  "language_info": {
   "codemirror_mode": {
    "name": "ipython",
    "version": 3
   },
   "file_extension": ".py",
   "mimetype": "text/x-python",
   "name": "python",
   "nbconvert_exporter": "python",
   "pygments_lexer": "ipython3",
   "version": "3.12.3"
  }
 },
 "nbformat": 4,
 "nbformat_minor": 2
}
